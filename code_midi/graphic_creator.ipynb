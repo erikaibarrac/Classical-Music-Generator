{
 "cells": [
  {
   "cell_type": "code",
   "execution_count": 1,
   "id": "fa9143e8",
   "metadata": {},
   "outputs": [],
   "source": [
    "import py_midicsv as pm\n",
    "import pandas as pd\n",
    "import io\n",
    "import numpy as np\n",
    "from hmmlearn import hmm\n",
    "from matplotlib import pyplot as plt\n",
    "\n",
    "import mido\n",
    "import numpy as np\n",
    "import matplotlib.pyplot as plt\n",
    "import matplotlib as mpl\n",
    "from matplotlib.colors import colorConverter"
   ]
  },
  {
   "cell_type": "code",
   "execution_count": 13,
   "id": "674a8243",
   "metadata": {},
   "outputs": [],
   "source": [
    "# inherit the origin mido class\n",
    "class MidiFile(mido.MidiFile):\n",
    "\n",
    "    def __init__(self, filename):\n",
    "\n",
    "        mido.MidiFile.__init__(self, filename)\n",
    "        self.sr = 10\n",
    "        self.meta = {}\n",
    "        self.events = self.get_events()\n",
    "\n",
    "    def get_events(self):\n",
    "        mid = self\n",
    "#         print(mid)\n",
    "\n",
    "        # There is > 16 channel in midi.tracks. However there is only 16 channel related to \"music\" events.\n",
    "        # We store music events of 16 channel in the list \"events\" with form [[ch1],[ch2]....[ch16]]\n",
    "        # Lyrics and meta data used a extra channel which is not include in \"events\"\n",
    "\n",
    "        events = [[] for x in range(16)]\n",
    "\n",
    "        # Iterate all event in the midi and extract to 16 channel form\n",
    "        for track in mid.tracks:\n",
    "            for msg in track:\n",
    "                try:\n",
    "                    channel = msg.channel\n",
    "                    events[channel].append(msg)\n",
    "                except AttributeError:\n",
    "                    try:\n",
    "                        if type(msg) != type(mido.UnknownMetaMessage):\n",
    "                            self.meta[msg.type] = msg.dict()\n",
    "                        else:\n",
    "                            pass\n",
    "                    except:\n",
    "                        print(\"error\",type(msg))\n",
    "\n",
    "        return events\n",
    "\n",
    "    def get_roll(self):\n",
    "        events = self.get_events()\n",
    "        # Identify events, then translate to piano roll\n",
    "        # choose a sample ratio(sr) to down-sample through time axis\n",
    "        sr = self.sr\n",
    "\n",
    "        # compute total length in tick unit\n",
    "        length = self.get_total_ticks()\n",
    "\n",
    "        # allocate memory to numpy array\n",
    "        roll = np.zeros((16, 128, length // sr), dtype=\"int8\")\n",
    "\n",
    "        # use a register array to save the state(no/off) for each key\n",
    "        note_register = [int(-1) for x in range(128)]\n",
    "\n",
    "        # use a register array to save the state(program_change) for each channel\n",
    "        timbre_register = [1 for x in range(16)]\n",
    "\n",
    "\n",
    "        for idx, channel in enumerate(events):\n",
    "\n",
    "            time_counter = 0\n",
    "            volume = 100\n",
    "            # Volume would change by control change event (cc) cc7 & cc11\n",
    "            # Volume 0-100 is mapped to 0-127\n",
    "\n",
    "            for msg in channel:\n",
    "                if msg.type == \"control_change\":\n",
    "                    if msg.control == 7:\n",
    "                        volume = msg.value\n",
    "                        # directly assign volume\n",
    "                    if msg.control == 11:\n",
    "                        volume = volume * msg.value // 127\n",
    "                        \n",
    "                if msg.type == \"program_change\":\n",
    "                    timbre_register[idx] = msg.program\n",
    "\n",
    "                if msg.type == \"note_on\":\n",
    "                    note_on_start_time = time_counter // sr\n",
    "                    note_on_end_time = (time_counter + msg.time) // sr\n",
    "                    intensity = volume * msg.velocity // 127\n",
    "\n",
    "\n",
    "\n",
    "                    # When a note_on event *ends* the note start to be play \n",
    "                    # Record end time of note_on event if there is no value in register\n",
    "                    # When note_off event happens, we fill in the color\n",
    "                    if note_register[msg.note] == -1:\n",
    "                        note_register[msg.note] = (note_on_end_time,intensity)\n",
    "                    else:\n",
    "                    # When note_on event happens again, we also fill in the color\n",
    "                        old_end_time = note_register[msg.note][0]\n",
    "                        old_intensity = note_register[msg.note][1]\n",
    "                        roll[idx, msg.note, old_end_time: note_on_end_time] = old_intensity\n",
    "                        note_register[msg.note] = (note_on_end_time,intensity)\n",
    "\n",
    "\n",
    "                if msg.type == \"note_off\":\n",
    "                    note_off_start_time = time_counter // sr\n",
    "                    note_off_end_time = (time_counter + msg.time) // sr\n",
    "                    note_on_end_time = note_register[msg.note][0]\n",
    "                    intensity = note_register[msg.note][1]\n",
    "                    # fill in color\n",
    "                    roll[idx, msg.note, note_on_end_time:note_off_end_time] = intensity\n",
    "\n",
    "                    note_register[msg.note] = -1  # reinitialize register\n",
    "\n",
    "                time_counter += msg.time\n",
    "\n",
    "                # TODO : velocity -> done, but not verified\n",
    "                # TODO: Pitch wheel\n",
    "                # TODO: Channel - > Program Changed / Timbre catagory\n",
    "                # TODO: real time scale of roll\n",
    "\n",
    "            # if there is a note not closed at the end of a channel, close it\n",
    "            for key, data in enumerate(note_register):\n",
    "                if data != -1:\n",
    "                    note_on_end_time = data[0]\n",
    "                    intensity = data[1]\n",
    "                    # print(key, note_on_end_time)\n",
    "                    note_off_start_time = time_counter // sr\n",
    "                    roll[idx, key, note_on_end_time:] = intensity\n",
    "                note_register[idx] = -1\n",
    "\n",
    "        return roll\n",
    "\n",
    "    def get_roll_image(self):\n",
    "        roll = self.get_roll()\n",
    "        plt.ioff()\n",
    "\n",
    "        K = 16\n",
    "\n",
    "        transparent = colorConverter.to_rgba('black')\n",
    "        colors = [mpl.colors.to_rgba(mpl.colors.hsv_to_rgb((i / K, 1, 1)), alpha=1) for i in range(K)]\n",
    "        color = 'yellow'\n",
    "        cmaps = [mpl.colors.LinearSegmentedColormap.from_list('my_cmap', [transparent, color], 128) for i in\n",
    "                 range(K)]\n",
    "\n",
    "        for i in range(K):\n",
    "            cmaps[i]._init()  # create the _lut array, with rgba values\n",
    "            # create your alpha array and fill the colormap with them.\n",
    "            # here it is progressive, but you can create whathever you want\n",
    "            alphas = np.linspace(0, 1, cmaps[i].N + 3)\n",
    "            cmaps[i]._lut[:, -1] = alphas\n",
    "\n",
    "        fig = plt.figure(figsize=(4, 3))\n",
    "        a1 = fig.add_subplot(111)\n",
    "        a1.axis(\"equal\")\n",
    "        a1.set_facecolor(\"black\")\n",
    "\n",
    "        array = []\n",
    "\n",
    "        for i in range(K):\n",
    "            try:\n",
    "                img = a1.imshow(roll[i], interpolation='nearest', cmap=cmaps[i], aspect='auto')\n",
    "                array.append(img.get_array())\n",
    "            except IndexError:\n",
    "                pass\n",
    "        return array\n",
    "\n",
    "    def draw_roll(self):\n",
    "\n",
    "\n",
    "        roll = self.get_roll()\n",
    "\n",
    "        # build and set fig obj\n",
    "        plt.ioff()\n",
    "        fig = plt.figure(figsize=(10, 8))\n",
    "        a1 = fig.add_subplot(111)\n",
    "        a1.axis(\"equal\")\n",
    "        a1.set_facecolor(\"black\")\n",
    "\n",
    "        # change unit of time axis from tick to second\n",
    "        tick = self.get_total_ticks()\n",
    "        second = mido.tick2second(tick, self.ticks_per_beat, self.get_tempo())\n",
    "        if second > 10:\n",
    "            x_label_period_sec = second // 10\n",
    "        else:\n",
    "            x_label_period_sec = second / 10  # ms\n",
    "        x_label_interval = mido.second2tick(x_label_period_sec, self.ticks_per_beat, self.get_tempo()) / self.sr\n",
    "        plt.xticks([int(x * x_label_interval) for x in range(20)], [round(x * x_label_period_sec, 2) for x in range(20)])\n",
    "\n",
    "        # change scale and label of y axis\n",
    "        plt.yticks([y*16 for y in range(8)], [y*16 for y in range(8)])\n",
    "\n",
    "        # build colors\n",
    "        channel_nb = 16\n",
    "        transparent = colorConverter.to_rgba('white')\n",
    "        colors = [mpl.colors.to_rgba(mpl.colors.hsv_to_rgb((i / channel_nb, 1, 1)), alpha=1) for i in range(channel_nb)]\n",
    "        cmaps = [mpl.colors.LinearSegmentedColormap.from_list('my_cmap', [transparent, 'white'], 128) for i in\n",
    "                 range(channel_nb)]\n",
    "\n",
    "\n",
    "        # build color maps\n",
    "        for i in range(channel_nb):\n",
    "            cmaps[i]._init()\n",
    "            # create your alpha array and fill the colormap with them.\n",
    "            alphas = np.linspace(0, 1, cmaps[i].N + 3)\n",
    "            # create the _lut array, with rgba values\n",
    "            cmaps[i]._lut[:, -1] = alphas\n",
    "\n",
    "\n",
    "        # draw piano roll and stack image on a1\n",
    "        for i in range(channel_nb):\n",
    "            try:\n",
    "                a1.imshow(roll[i], origin=\"lower\", interpolation='nearest', cmap=cmaps[i], aspect='auto')\n",
    "            except IndexError:\n",
    "                pass\n",
    "#         plt.xlim(right=2000)\n",
    "        \n",
    "        # show piano roll\n",
    "        plt.draw()\n",
    "        plt.ion()\n",
    "        plt.title('Notes Over Time')\n",
    "        plt.ylabel('note on the piano')\n",
    "        plt.xlabel('time in seconds')\n",
    "        plt.savefig('tree_music.pdf')\n",
    "        plt.show(block=True)\n",
    "\n",
    "    def get_tempo(self):\n",
    "        try:\n",
    "            return self.meta[\"set_tempo\"][\"tempo\"]\n",
    "        except:\n",
    "            return 500000\n",
    "\n",
    "    def get_total_ticks(self):\n",
    "        max_ticks = 0\n",
    "        for channel in range(16):\n",
    "            ticks = sum(msg.time for msg in self.events[channel])\n",
    "            if ticks > max_ticks:\n",
    "                max_ticks = ticks\n",
    "        return max_ticks"
   ]
  },
  {
   "cell_type": "code",
   "execution_count": 14,
   "id": "d810fb7d",
   "metadata": {},
   "outputs": [
    {
     "data": {
      "image/png": "[encoded data removed]",
      "text/plain": [
       "<Figure size 720x576 with 1 Axes>"
      ]
     },
     "metadata": {
      "needs_background": "light"
     },
     "output_type": "display_data"
    },
    {
     "data": {
      "text/plain": [
       "500000"
      ]
     },
     "execution_count": 14,
     "metadata": {},
     "output_type": "execute_result"
    }
   ],
   "source": [
    "# if __name__ == \"__main__\":\n",
    "mid = MidiFile(\"tree_music.midi\")\n",
    "\n",
    "# get the list of all events\n",
    "# events = mid.get_events()\n",
    "\n",
    "# get the np array of piano roll image\n",
    "roll = mid.get_roll()\n",
    "\n",
    "# draw piano roll by pyplot\n",
    "mid.draw_roll()\n",
    "mid.get_tempo()"
   ]
  },
  {
   "cell_type": "code",
   "execution_count": 15,
   "id": "4f7d9174",
   "metadata": {},
   "outputs": [
    {
     "data": {
      "image/png": "[encoded data removed]",
      "text/plain": [
       "<Figure size 720x576 with 1 Axes>"
      ]
     },
     "metadata": {
      "needs_background": "light"
     },
     "output_type": "display_data"
    },
    {
     "data": {
      "text/plain": [
       "500000"
      ]
     },
     "execution_count": 15,
     "metadata": {},
     "output_type": "execute_result"
    }
   ],
   "source": [
    "# if __name__ == \"__main__\":\n",
    "mid = MidiFile(\"tree_music2.midi\")\n",
    "\n",
    "# get the list of all events\n",
    "# events = mid.get_events()\n",
    "\n",
    "# get the np array of piano roll image\n",
    "roll = mid.get_roll()\n",
    "\n",
    "# draw piano roll by pyplot\n",
    "mid.draw_roll()\n",
    "mid.get_tempo()"
   ]
  },
  {
   "cell_type": "code",
   "execution_count": 16,
   "id": "baae4703",
   "metadata": {
    "scrolled": true
   },
   "outputs": [
    {
     "data": {
      "image/png": "[encoded data removed]",
      "text/plain": [
       "<Figure size 720x576 with 1 Axes>"
      ]
     },
     "metadata": {
      "needs_background": "light"
     },
     "output_type": "display_data"
    },
    {
     "data": {
      "text/plain": [
       "491803"
      ]
     },
     "execution_count": 16,
     "metadata": {},
     "output_type": "execute_result"
    }
   ],
   "source": [
    "# if __name__ == \"__main__\":\n",
    "mid = MidiFile(\"Study_Music/piano_sonata_310_1_(c)oguri.mid\")\n",
    "\n",
    "# get the list of all events\n",
    "# events = mid.get_events()\n",
    "\n",
    "# get the np array of piano roll image\n",
    "roll = mid.get_roll()\n",
    "\n",
    "# draw piano roll by pyplot\n",
    "mid.draw_roll()\n",
    "mid.get_tempo()"
   ]
  },
  {
   "cell_type": "code",
   "execution_count": null,
   "id": "3e224a45",
   "metadata": {},
   "outputs": [],
   "source": []
  }
 ],
 "metadata": {
  "kernelspec": {
   "display_name": "Python 3 (ipykernel)",
   "language": "python",
   "name": "python3"
  },
  "language_info": {
   "codemirror_mode": {
    "name": "ipython",
    "version": 3
   },
   "file_extension": ".py",
   "mimetype": "text/x-python",
   "name": "python",
   "nbconvert_exporter": "python",
   "pygments_lexer": "ipython3",
   "version": "3.8.12"
  }
 },
 "nbformat": 4,
 "nbformat_minor": 5
}
